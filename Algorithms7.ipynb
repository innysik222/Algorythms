{
  "nbformat": 4,
  "nbformat_minor": 0,
  "metadata": {
    "colab": {
      "name": "Algorithms7.ipynb",
      "provenance": [],
      "authorship_tag": "ABX9TyMFscXzC5nH8MNI3PjS0t/B",
      "include_colab_link": true
    },
    "kernelspec": {
      "name": "python3",
      "display_name": "Python 3"
    },
    "language_info": {
      "name": "python"
    }
  },
  "cells": [
    {
      "cell_type": "markdown",
      "metadata": {
        "id": "view-in-github",
        "colab_type": "text"
      },
      "source": [
        "<a href=\"https://colab.research.google.com/github/innysik222/Algorythms/blob/master/Algorithms7.ipynb\" target=\"_parent\"><img src=\"https://colab.research.google.com/assets/colab-badge.svg\" alt=\"Open In Colab\"/></a>"
      ]
    },
    {
      "cell_type": "markdown",
      "source": [
        "Отсортируйте по убыванию методом пузырька одномерный целочисленный массив, заданный случайными числами на промежутке [-100; 100). Выведите на экран исходный и отсортированный массивы."
      ],
      "metadata": {
        "id": "lsw5u9kjqCJ3"
      }
    },
    {
      "cell_type": "code",
      "execution_count": null,
      "metadata": {
        "colab": {
          "base_uri": "https://localhost:8080/"
        },
        "id": "ww4FJPHBpc0n",
        "outputId": "91dc2b41-a906-4880-a847-9adf0f90dbac"
      },
      "outputs": [
        {
          "output_type": "stream",
          "name": "stdout",
          "text": [
            "[38, -53, 66, 83, -13, 9, -89, -74, 59, 51, 96, 43, 81, 37, -28, 42, -11, 26, 88, -88]\n",
            "[-89, -88, -74, -53, -28, -13, -11, 9, 26, 37, 38, 42, 43, 51, 59, 66, 81, 83, 88, 96]\n"
          ]
        }
      ],
      "source": [
        "\n",
        "import random\n",
        "size=20\n",
        "array=[random.randint(-100,100) for _ in range(size)]\n",
        "random.shuffle(array)\n",
        "print(array)\n",
        "def sort_bubble(array):\n",
        "    n=len(array)\n",
        "    for i in range(n):\n",
        "        for j in range(0, n-i-1):\n",
        "            if array[j+1]<array[j]:\n",
        "                array[j+1],array[j]=array[j],array[j+1]\n",
        "    print(array)\n",
        "sort_bubble(array)"
      ]
    },
    {
      "cell_type": "markdown",
      "source": [
        "#Отсортируйте по возрастанию методом слияния одномерный вещественный массив, заданный случайными числами на промежутке [0; 50). Выведите на экран исходный и отсортированный массивы."
      ],
      "metadata": {
        "id": "aK-g17KwqFSe"
      }
    },
    {
      "cell_type": "code",
      "source": [
        "\n",
        "import random\n",
        "size=20\n",
        "array=[random.randint(0,50) for _ in range(size)]\n",
        "random.shuffle(array)\n",
        "print(array)\n",
        "def merge_sort(array, start, end):\n",
        "    if end-start>1:\n",
        "        mid = (start + end)//2\n",
        "        merge_sort(array, start, mid)\n",
        "        merge_sort(array, mid, end)\n",
        "        merge_list(array, start, mid, end)\n",
        "    \n",
        "def merge_list(alist, start, mid, end):\n",
        "    left = array[start:mid]\n",
        "    right = array[mid:end]\n",
        "    k = start\n",
        "    i = 0\n",
        "    j = 0\n",
        "    while (start + i < mid and mid + j < end):\n",
        "        if (left[i] <= right[j]):\n",
        "            array[k] = left[i]\n",
        "            i = i + 1\n",
        "        else:\n",
        "            array[k] = right[j]\n",
        "            j = j + 1\n",
        "        k = k + 1\n",
        "    if start + i < mid:\n",
        "        while k < end:\n",
        "            array[k] = left[i]\n",
        "            i = i + 1\n",
        "            k = k + 1\n",
        "    else:\n",
        "        while k < end:\n",
        "            array[k] = right[j]\n",
        "            j = j + 1\n",
        "            k = k + 1\n",
        "merge_sort(array,0, len(array))\n",
        "print(array)"
      ],
      "metadata": {
        "colab": {
          "base_uri": "https://localhost:8080/"
        },
        "id": "mtnZkDUhqF7K",
        "outputId": "ef6b8f9c-be0c-4795-daf5-af04afef86ab"
      },
      "execution_count": null,
      "outputs": [
        {
          "output_type": "stream",
          "name": "stdout",
          "text": [
            "[33, 18, 42, 15, 37, 25, 47, 36, 44, 9, 6, 7, 24, 40, 22, 42, 14, 30, 12, 47]\n",
            "[6, 7, 9, 12, 14, 15, 18, 22, 24, 25, 30, 33, 36, 37, 40, 42, 42, 44, 47, 47]\n"
          ]
        }
      ]
    },
    {
      "cell_type": "markdown",
      "source": [
        "\n",
        "# Массив размером 2m + 1, где m — натуральное число, заполнен случайным образом.\n",
        "# Найдите в массиве медиану. Медианой называется элемент ряда, делящий его на две равные части:\n",
        "# в одной находятся элементы, которые не меньше медианы, в другой — не больше медианы."
      ],
      "metadata": {
        "id": "AglOVZCaqbtY"
      }
    },
    {
      "cell_type": "code",
      "source": [
        "\n",
        "import random\n",
        "import cProfile\n",
        "\n",
        "\n",
        "def median_search(lst, first, last):\n",
        "\n",
        "    lst = lst.copy()\n",
        "    ind = len(lst) // 2\n",
        "\n",
        "    if first >= last:\n",
        "        return lst[ind]\n",
        "\n",
        "    pillar = lst[ind]\n",
        "    i = first\n",
        "    j = last\n",
        "\n",
        "    while i <= j:\n",
        "\n",
        "        while lst[i] < pillar:\n",
        "            i += 1\n",
        "\n",
        "        while lst[j] > pillar:\n",
        "            j -= 1\n",
        "\n",
        "        if i <= j:\n",
        "            lst[i], lst[j] = lst[j], lst[i]\n",
        "            i += 1\n",
        "            j -= 1\n",
        "\n",
        "    if ind < i:\n",
        "        lst[ind] = median_search(lst, first, j)\n",
        "\n",
        "    elif j < ind:\n",
        "        lst[ind] = median_search(lst, i, last)\n",
        "\n",
        "    return lst[ind]\n",
        "\n",
        "\n",
        "def merge_sort(arr):\n",
        "\n",
        "    def merge(fst, snd):\n",
        "        res = []\n",
        "        i, j = 0, 0\n",
        "\n",
        "        while i < len(fst) and j < len(snd):\n",
        "\n",
        "            if fst[i] < snd[j]:\n",
        "                res.append(fst[i])\n",
        "                i += 1\n",
        "\n",
        "            else:\n",
        "                res.append(snd[j])\n",
        "                j += 1\n",
        "\n",
        "        res.extend(fst[i:] if i < len(fst) else snd[j:])\n",
        "\n",
        "        return res\n",
        "\n",
        "    def div_half(lst):\n",
        "\n",
        "        if len(lst) == 1:\n",
        "            return lst\n",
        "\n",
        "        elif len(lst) == 2:\n",
        "            return lst if lst[0] <= lst[1] else lst[::-1]\n",
        "\n",
        "        else:\n",
        "            return merge(div_half(lst[:len(lst)//2]), div_half(lst[len(lst)//2:]))\n",
        "\n",
        "    return div_half(arr)\n",
        "\n",
        "\n",
        "MIN_ITEM = 0\n",
        "MAX_ITEM = 50\n",
        "MIN_SIZE = 5\n",
        "MAX_SIZE = 10\n",
        "\n",
        "m = random.randint(MIN_SIZE, MAX_SIZE)\n",
        "size = 2 * m + 1\n",
        "\n",
        "array = [random.randint(MIN_ITEM, MAX_ITEM) for _ in range(size)]\n",
        "\n",
        "# cProfile.run('median_search(array, 0, len(array) - 1)')\n",
        "\n",
        "print(f'Сгенерирован массив из 2*{m}+1 = {size}  элементов:', array, sep='\\n')\n",
        "\n",
        "median = median_search(array, 0, len(array) - 1)\n",
        "print(f'Медиана: {median}')\n",
        "# print(array, '\\n')\n",
        "\n",
        "print('Отсортированный массив: ', merge_sort(array), sep='\\n')\n",
        "if median == merge_sort(array)[len(array)//2]:\n",
        "    print('\\nВерно')\n",
        "else:\n",
        "    print('\\nОшибка!!!')"
      ],
      "metadata": {
        "colab": {
          "base_uri": "https://localhost:8080/"
        },
        "id": "xQT8TBm3qcnk",
        "outputId": "80072d7f-34ab-402b-f95f-181140e4e072"
      },
      "execution_count": null,
      "outputs": [
        {
          "output_type": "stream",
          "name": "stdout",
          "text": [
            "Сгенерирован массив из 2*6+1 = 13  элементов:\n",
            "[17, 28, 11, 10, 28, 28, 17, 16, 11, 20, 26, 40, 43]\n",
            "Медиана: 20\n",
            "Отсортированный массив: \n",
            "[10, 11, 11, 16, 17, 17, 20, 26, 28, 28, 28, 40, 43]\n",
            "\n",
            "Верно\n"
          ]
        }
      ]
    }
  ]
}