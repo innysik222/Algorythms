{
  "nbformat": 4,
  "nbformat_minor": 0,
  "metadata": {
    "colab": {
      "name": "Algorithms_task5.ipynb",
      "provenance": [],
      "authorship_tag": "ABX9TyO3WD0VP0KA0eFxFtvTHWym",
      "include_colab_link": true
    },
    "kernelspec": {
      "name": "python3",
      "display_name": "Python 3"
    },
    "language_info": {
      "name": "python"
    }
  },
  "cells": [
    {
      "cell_type": "markdown",
      "metadata": {
        "id": "view-in-github",
        "colab_type": "text"
      },
      "source": [
        "<a href=\"https://colab.research.google.com/github/innysik222/Algorythms/blob/master/Algorithms_task5.ipynb\" target=\"_parent\"><img src=\"https://colab.research.google.com/assets/colab-badge.svg\" alt=\"Open In Colab\"/></a>"
      ]
    },
    {
      "cell_type": "markdown",
      "source": [
        "\n",
        "#Пользователь вводит данные о количестве предприятий, их наименования и прибыль за четыре квартала для каждого предприятия. Программа должна определить среднюю прибыль (за год для всех предприятий) и отдельно вывести наименования предприятий, чья прибыль выше среднего и ниже среднего."
      ],
      "metadata": {
        "id": "IMhT_-C_uBoi"
      }
    },
    {
      "cell_type": "code",
      "execution_count": null,
      "metadata": {
        "colab": {
          "base_uri": "https://localhost:8080/"
        },
        "id": "VHiqWdpwt8PZ",
        "outputId": "89ffa3cd-c978-4c80-ef23-c5f526437b64"
      },
      "outputs": [
        {
          "output_type": "stream",
          "name": "stdout",
          "text": [
            "введите количество предприятий 5\n",
            "введите название предприятия A\n",
            "введите выручку предприятия 56\n",
            "введите название предприятия G\n",
            "введите выручку предприятия 67\n",
            "введите название предприятия J\n",
            "введите выручку предприятия 87\n",
            "введите название предприятия B\n",
            "введите выручку предприятия 56\n",
            "введите название предприятия D\n",
            "введите выручку предприятия 98\n",
            "средняя выручка предприятий-72.8\n",
            "предприятия с выручкой ниже среднего - ['A', 'G', 'B']\n",
            "предприятия с выручкой выше среднего - ['J', 'D']\n"
          ]
        }
      ],
      "source": [
        "\n",
        "import collections\n",
        "n=int(input(\"введите количество предприятий \"))\n",
        "enterprises=collections.Counter()\n",
        "low_profit=[]\n",
        "high_profit=[]\n",
        "for i in range(1,n+1):\n",
        "    name=input(\"введите название предприятия \")\n",
        "    enterprises[name]=float(input(\"введите выручку предприятия \"))\n",
        "    avg_profit=sum(enterprises.values())/n\n",
        "print(f\"средняя выручка предприятий-{avg_profit}\")\n",
        "for key, value in enterprises.items():\n",
        "    if value<avg_profit:\n",
        "        low_profit.append(key)\n",
        "    else:\n",
        "        high_profit.append(key)\n",
        "print(f\"предприятия с выручкой ниже среднего - {low_profit}\")\n",
        "print(f\"предприятия с выручкой выше среднего - {high_profit}\")"
      ]
    },
    {
      "cell_type": "markdown",
      "source": [
        "#Написать программу сложения и умножения двух шестнадцатеричных чисел. При этом каждое число представляется как массив, элементы которого — цифры числа.\n",
        "#Например, пользователь ввёл A2 и C4F. Нужно сохранить их как [‘A’, ‘2’] и [‘C’, ‘4’, ‘F’] соответственно. Сумма чисел из примера: [‘C’, ‘F’, ‘1’], произведение - [‘7’, ‘C’, ‘9’, ‘F’, ‘E’].\n",
        "#Примечание: Если воспользоваться функциями hex() и/или int() для преобразования систем счисления, задача решается в несколько строк. Для прокачки алгоритмического мышления такой вариант не подходит. Поэтому использование встроенных функций для перевода из одной системы счисления в другую в данной задаче под запретом.\n",
        "#Вспомните начальную школу и попробуйте написать сложение и умножение в столбик."
      ],
      "metadata": {
        "id": "-sbj4_KAudWG"
      }
    },
    {
      "cell_type": "code",
      "source": [
        "\n",
        "\n",
        "from collections import deque\n",
        "\n",
        "\n",
        "def sum_hex(x, y):\n",
        "    HEX_NUM = {'0': 0, '1': 1, '2': 2, '3': 3, '4': 4, '5': 5, '6': 6, '7': 7, '8': 8, '9': 9,\n",
        "               'A': 10, 'B': 11, 'C': 12, 'D': 13, 'E': 14, 'F': 15,\n",
        "               0: '0', 1: '1', 2: '2', 3: '3', 4: '4', 5: '5', 6: '6', 7: '7', 8: '8', 9: '9',\n",
        "               10: 'A', 11: 'B', 12: 'C', 13: 'D', 14: 'E', 15: 'F'}\n",
        "    result = deque()\n",
        "    transfer = 0\n",
        "\n",
        "    if len(y) > len(x):\n",
        "        x, y = deque(y), deque(x)\n",
        "\n",
        "    else:\n",
        "        x, y = deque(x), deque(y)\n",
        "\n",
        "    while x:\n",
        "\n",
        "        if y:\n",
        "            res = HEX_NUM[x.pop()] + HEX_NUM[y.pop()] + transfer\n",
        "\n",
        "        else:\n",
        "            res = HEX_NUM[x.pop()] + transfer\n",
        "\n",
        "        transfer = 0\n",
        "\n",
        "        if res < 16:\n",
        "            result.appendleft(HEX_NUM[res])\n",
        "\n",
        "        else:\n",
        "            result.appendleft(HEX_NUM[res - 16])\n",
        "            transfer = 1\n",
        "\n",
        "    if transfer:\n",
        "        result.appendleft('1')\n",
        "\n",
        "    return list(result)\n",
        "\n",
        "\n",
        "def mult_hex(x, y):\n",
        "    HEX_NUM = {'0': 0, '1': 1, '2': 2, '3': 3, '4': 4, '5': 5, '6': 6, '7': 7, '8': 8, '9': 9,\n",
        "               'A': 10, 'B': 11, 'C': 12, 'D': 13, 'E': 14, 'F': 15,\n",
        "               0: '0', 1: '1', 2: '2', 3: '3', 4: '4', 5: '5', 6: '6', 7: '7', 8: '8', 9: '9',\n",
        "               10: 'A', 11: 'B', 12: 'C', 13: 'D', 14: 'E', 15: 'F'}\n",
        "    result = deque()\n",
        "    spam = deque([deque() for _ in range(len(y))])\n",
        "\n",
        "    x, y = x.copy(), deque(y)\n",
        "\n",
        "    for i in range(len(y)):\n",
        "        m = HEX_NUM[y.pop()]\n",
        "\n",
        "        for j in range(len(x) - 1, -1, -1):\n",
        "            spam[i].appendleft(m * HEX_NUM[x[j]])\n",
        "\n",
        "        for _ in range(i):\n",
        "            spam[i].append(0)\n",
        "\n",
        "    transfer = 0\n",
        "\n",
        "    for _ in range(len(spam[-1])):\n",
        "        res = transfer\n",
        "\n",
        "        for i in range(len(spam)):\n",
        "            if spam[i]:\n",
        "                res += spam[i].pop()\n",
        "\n",
        "        if res < 16:\n",
        "            result.appendleft(HEX_NUM[res])\n",
        "\n",
        "        else:\n",
        "            result.appendleft(HEX_NUM[res % 16])\n",
        "            transfer = res // 16\n",
        "\n",
        "    if transfer:\n",
        "            result.appendleft(HEX_NUM[transfer])\n",
        "\n",
        "    return list(result)\n",
        "\n",
        "\n",
        "a = list(input('Введите 1-е шестнадцатиричное число: ').upper())\n",
        "b = list(input('Введите 2-е шестнадцатиричное число: ').upper())\n",
        "# print(a, b)\n",
        "\n",
        "print(*a, '+', *b, '=', *sum_hex(a, b))\n",
        "\n",
        "print(*a, '*', *b, '=', *mult_hex(a, b))"
      ],
      "metadata": {
        "colab": {
          "base_uri": "https://localhost:8080/"
        },
        "id": "YIP3WE-5u3Jd",
        "outputId": "357173c3-93ca-48b3-f137-e7b395193b66"
      },
      "execution_count": null,
      "outputs": [
        {
          "output_type": "stream",
          "name": "stdout",
          "text": [
            "Введите 1-е шестнадцатиричное число: AF65\n",
            "Введите 2-е шестнадцатиричное число: B98D\n",
            "A F 6 5 + B 9 8 D = 1 6 8 F 2\n",
            "A F 6 5 * B 9 8 D = 7 F 2 0 9 7 A 1\n"
          ]
        }
      ]
    }
  ]
}