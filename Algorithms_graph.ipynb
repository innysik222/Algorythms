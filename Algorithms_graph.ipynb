{
  "nbformat": 4,
  "nbformat_minor": 0,
  "metadata": {
    "colab": {
      "name": "Algorithms_graph",
      "provenance": [],
      "authorship_tag": "ABX9TyMXPB6OodPHJTXyfIzc36sn",
      "include_colab_link": true
    },
    "kernelspec": {
      "name": "python3",
      "display_name": "Python 3"
    },
    "language_info": {
      "name": "python"
    }
  },
  "cells": [
    {
      "cell_type": "markdown",
      "metadata": {
        "id": "view-in-github",
        "colab_type": "text"
      },
      "source": [
        "<a href=\"https://colab.research.google.com/github/innysik222/Algorythms/blob/master/Algorithms_graph.ipynb\" target=\"_parent\"><img src=\"https://colab.research.google.com/assets/colab-badge.svg\" alt=\"Open In Colab\"/></a>"
      ]
    },
    {
      "cell_type": "markdown",
      "source": [
        "1. На улице встретились N друзей. Каждый пожал руку всем\n",
        "остальным друзьям (по одному разу). Сколько рукопожатий было?\n",
        "Примечание. Решите задачу при помощи построения графа.\n",
        "\"\"\""
      ],
      "metadata": {
        "id": "IgxY9ElLuSQc"
      }
    },
    {
      "cell_type": "code",
      "execution_count": 1,
      "metadata": {
        "colab": {
          "base_uri": "https://localhost:8080/"
        },
        "id": "S6S7elVPuC8-",
        "outputId": "c1d5cbf3-a623-43c1-b194-cddba99ff1f8"
      },
      "outputs": [
        {
          "output_type": "stream",
          "name": "stdout",
          "text": [
            "Введите количество друзей жмущих руку друг другу: 6\n",
            "[[0, 1, 1, 1, 1, 1], [1, 0, 1, 1, 1, 1], [1, 1, 0, 1, 1, 1], [1, 1, 1, 0, 1, 1], [1, 1, 1, 1, 0, 1], [1, 1, 1, 1, 1, 0]]\n",
            "Всего было произведено 30 рукопожатя(ий)\n"
          ]
        }
      ],
      "source": [
        "\n",
        "\n",
        "\n",
        "s = int(input(\"Введите количество друзей жмущих руку друг другу: \"))\n",
        "\n",
        "# строим матрицу смежности для ориентированного графа.\n",
        "# главная диагональ нулевая (мы не можем жать руку сами себе)\n",
        "graph = []\n",
        "for i in range(s):\n",
        "    row = [1] * s\n",
        "    row[i] = 0\n",
        "    graph.append(row)\n",
        "\n",
        "print(graph)\n",
        "\n",
        "# считаем количество рукопожатий (количество ребер)\n",
        "handshakes = 0\n",
        "for row in graph:\n",
        "    for i in row:\n",
        "        handshakes += i\n",
        "\n",
        "print(f\"Всего было произведено {handshakes} рукопожатя(ий)\")"
      ]
    },
    {
      "cell_type": "markdown",
      "source": [
        "Доработать алгоритм Дейкстры (рассматривался на уроке), чтобы он\n",
        "дополнительно возвращал список вершин, которые необходимо обойти.\n",
        "\"\"\""
      ],
      "metadata": {
        "id": "LwjUtFRuumWU"
      }
    },
    {
      "cell_type": "code",
      "source": [
        "from collections import deque\n",
        "\n",
        "\n",
        "g = [\n",
        "  #  0  1  2  3  4  4  6  7\n",
        "    [0, 0, 1, 1, 9, 0, 0, 0,],  # 0\n",
        "    [0, 0, 9, 4, 0, 0, 5, 0,],  # 1\n",
        "    [0, 9, 0, 0, 3, 0, 6, 0,],  # 2\n",
        "    [0, 0, 0, 0, 0, 0, 0, 0,],  # 3\n",
        "    [0, 0, 0, 0, 0, 0, 1, 0,],  # 4\n",
        "    [0, 0, 0, 0, 0, 0, 5, 0,],  # 5\n",
        "    [0, 0, 7, 0, 8, 1, 0, 0,],  # 6\n",
        "    [0, 0, 0, 0, 0, 1, 2, 0,],  # 7\n",
        "]\n",
        "\n",
        "\n",
        "def dijkstra(graph, start):\n",
        "    length = len(graph)\n",
        "    is_visited = [False] * length\n",
        "    cost = [float('inf')] * length\n",
        "    parent = [-1] * length\n",
        "\n",
        "    cost[start] = 0\n",
        "    min_cost = 0\n",
        "\n",
        "    while min_cost < float('inf'):\n",
        "        is_visited[start] = True\n",
        "\n",
        "        for i, vertex in enumerate(graph[start]):\n",
        "            if vertex != 0 and not is_visited[i]:\n",
        "                new_cost = vertex + cost[start]\n",
        "                if cost[i] > new_cost:\n",
        "                    cost[i] = new_cost\n",
        "                    parent[i] = start\n",
        "\n",
        "        min_cost = float('inf')\n",
        "        for i in range(length):\n",
        "            if min_cost > cost[i] and not is_visited[i]:\n",
        "                min_cost = cost[i]\n",
        "                start = i\n",
        "\n",
        "    track = {}\n",
        "    for i, vertex in enumerate(parent):\n",
        "        if vertex > -1:\n",
        "            track[i] = deque([vertex, i])\n",
        "\n",
        "            while vertex > -1:\n",
        "                vertex = parent[vertex]\n",
        "                if vertex > -1:  \n",
        "                    track[i].appendleft(vertex)\n",
        "\n",
        "            track[i] = list(track[i])\n",
        "\n",
        "    return track\n",
        "\n",
        "\n",
        "print(dijkstra(g, 3))"
      ],
      "metadata": {
        "colab": {
          "base_uri": "https://localhost:8080/"
        },
        "id": "JjqKWh6HvGvW",
        "outputId": "2013a2b9-2a3c-42fd-8a40-cab72ff9041a"
      },
      "execution_count": 3,
      "outputs": [
        {
          "output_type": "stream",
          "name": "stdout",
          "text": [
            "{}\n"
          ]
        }
      ]
    },
    {
      "cell_type": "markdown",
      "source": [
        ""
      ],
      "metadata": {
        "id": "dInc3wtcwWfM"
      }
    },
    {
      "cell_type": "markdown",
      "source": [
        "Написать программу, которая обходит не взвешенный ориентированный граф без петель,\n",
        "в котором все вершины связаны, по алгоритму поиска в глубину (Depth-First Search).\n",
        "Примечания:\n",
        "a. граф должен храниться в виде списка смежности;\n",
        "b. генерация графа выполняется в отдельной функции, которая принимает на вход число вершин.\n",
        "\"\"\""
      ],
      "metadata": {
        "id": "7lNgKH3Uwf6X"
      }
    },
    {
      "cell_type": "code",
      "source": [
        "from collections import deque\n",
        "\n",
        "\n",
        "def generate_graph(num):\n",
        "    new_graph = {}\n",
        "\n",
        "    for i in range(num):\n",
        "        new_graph[i] = tuple(j for j in range(num) if j != i)\n",
        "\n",
        "    return new_graph\n",
        "\n",
        "\n",
        "def walk_graph(graph, start, finish):\n",
        "    length = len(graph)\n",
        "    parent = [None] * length\n",
        "    is_visited = [False] * length\n",
        "\n",
        "    deq = deque([start])\n",
        "    is_visited[start] = True\n",
        "\n",
        "    while len(deq) > 0:\n",
        "        current = deq.pop()\n",
        "\n",
        "        if current == finish:\n",
        "            break\n",
        "\n",
        "        for vertex in graph[current]:\n",
        "            if not is_visited[vertex]:\n",
        "                is_visited[vertex] = True\n",
        "                parent[vertex] = current\n",
        "                deq.appendleft(vertex)\n",
        "    else:\n",
        "        return f\"Из вершины {start} невозможно попасть в вершину {finish}\"\n",
        "\n",
        "    cost = 0\n",
        "    way = deque([finish])\n",
        "    i = finish\n",
        "\n",
        "    while parent[i] != start:\n",
        "        cost += 1\n",
        "        way.appendleft(parent[i])\n",
        "        i = parent[i]\n",
        "\n",
        "    cost += 1\n",
        "    way.appendleft(start)\n",
        "\n",
        "    return list(way)\n",
        "\n",
        "\n",
        "n = int(input(\"Количество вершин в графе: \"))\n",
        "s = int(input(\"Введите вершину начала: \"))\n",
        "f = int(input(\"Введите вершину конца: \"))\n",
        "\n",
        "g = generate_graph(30)\n",
        "\n",
        "print(walk_graph(g, s, f))"
      ],
      "metadata": {
        "colab": {
          "base_uri": "https://localhost:8080/"
        },
        "id": "8FhPbG0rwW72",
        "outputId": "56125f6a-ef44-490d-cf58-1b06c15c0030"
      },
      "execution_count": 4,
      "outputs": [
        {
          "output_type": "stream",
          "name": "stdout",
          "text": [
            "Количество вершин в графе: 7\n",
            "Введите вершину начала: 3\n",
            "Введите вершину конца: 6\n",
            "[3, 6]\n"
          ]
        }
      ]
    }
  ]
}